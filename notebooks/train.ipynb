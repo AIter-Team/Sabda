{
 "cells": [
  {
   "cell_type": "code",
   "execution_count": 15,
   "metadata": {},
   "outputs": [],
   "source": [
    "import os"
   ]
  },
  {
   "cell_type": "code",
   "execution_count": 16,
   "metadata": {},
   "outputs": [
    {
     "name": "stdout",
     "output_type": "stream",
     "text": [
      "checkpoints\\sabda_runs\n"
     ]
    }
   ],
   "source": [
    "if log_file:\n",
    "    log_dir = os.path.dirname(log_file)\n",
    "    print(log_dir)\n",
    "    # if log_dir and not os.path.exists(log_dir):\n",
    "    #     # print(log_dir)\n",
    "    #     # os.makedirs(log_dir, exist_ok=True)\n",
    "    # elif log_dir and os.path.exists(log_dir):\n",
    "    #     # print(log_dir)"
   ]
  },
  {
   "cell_type": "code",
   "execution_count": null,
   "metadata": {},
   "outputs": [],
   "source": []
  }
 ],
 "metadata": {
  "kernelspec": {
   "display_name": "mlaudio",
   "language": "python",
   "name": "python3"
  },
  "language_info": {
   "codemirror_mode": {
    "name": "ipython",
    "version": 3
   },
   "file_extension": ".py",
   "mimetype": "text/x-python",
   "name": "python",
   "nbconvert_exporter": "python",
   "pygments_lexer": "ipython3",
   "version": "3.10.16"
  }
 },
 "nbformat": 4,
 "nbformat_minor": 2
}
